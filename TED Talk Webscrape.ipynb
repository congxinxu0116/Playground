{
 "cells": [
  {
   "cell_type": "markdown",
   "metadata": {},
   "source": [
    "# TED Talk Webscraper\n",
    "\n",
    "- Author: Congxin (David) Xu \n",
    "- Email: congxin.xu@richmond.edu\n",
    "- Date: 2020-12-24"
   ]
  },
  {
   "cell_type": "code",
   "execution_count": 1,
   "metadata": {},
   "outputs": [],
   "source": [
    "import selenium\n",
    "from selenium.webdriver.chrome.options import Options\n",
    "import pandas\n",
    "import requests\n",
    "from bs4 import BeautifulSoup\n",
    "from time import sleep\n",
    "\n",
    "# webdriver options\n",
    "options = Options()\n",
    "options.headless = True\n",
    "options.add_argument(\"--window-size=1920,1200\")\n",
    "\n",
    "\n",
    "url = 'https://www.youtube.com/c/TED/videos'\n",
    "driver = selenium.webdriver.Chrome(options=options)"
   ]
  },
  {
   "cell_type": "code",
   "execution_count": 2,
   "metadata": {},
   "outputs": [],
   "source": [
    "driver.get(url)\n",
    "\n",
    "height = driver.execute_script(\"return document.documentElement.scrollHeight\")\n",
    "previousHeight = -1\n",
    "\n",
    "while previousHeight < height:\n",
    "    previousHeight = height\n",
    "    driver.execute_script(f'window.scrollTo(0,{height + 10000})')\n",
    "    sleep(1)\n",
    "    height = driver.execute_script(\"return document.documentElement.scrollHeight\")\n",
    "\n",
    "vidElements = driver.find_elements_by_id('thumbnail')\n",
    "vid_urls = []\n",
    "for v in vidElements:\n",
    "    vid_urls.append(v.get_attribute('href'))"
   ]
  },
  {
   "cell_type": "code",
   "execution_count": 3,
   "metadata": {},
   "outputs": [
    {
     "data": {
      "text/plain": [
       "['https://www.youtube.com/watch?v=klXVQsbhFsE',\n",
       " 'https://www.youtube.com/watch?v=dKob6b8QzkU',\n",
       " 'https://www.youtube.com/watch?v=TST0CsV8LHI',\n",
       " 'https://www.youtube.com/watch?v=2hCUq6ScWME',\n",
       " 'https://www.youtube.com/watch?v=BcOey28XXIw']"
      ]
     },
     "execution_count": 3,
     "metadata": {},
     "output_type": "execute_result"
    }
   ],
   "source": [
    "vid_urls[0:5]"
   ]
  },
  {
   "cell_type": "code",
   "execution_count": 25,
   "metadata": {},
   "outputs": [
    {
     "data": {
      "text/plain": [
       "3546"
      ]
     },
     "execution_count": 25,
     "metadata": {},
     "output_type": "execute_result"
    }
   ],
   "source": [
    "len(vid_urls)"
   ]
  },
  {
   "cell_type": "code",
   "execution_count": 26,
   "metadata": {
    "scrolled": false
   },
   "outputs": [
    {
     "ename": "KeyError",
     "evalue": "'aria-label'",
     "output_type": "error",
     "traceback": [
      "\u001b[1;31m---------------------------------------------------------------------------\u001b[0m",
      "\u001b[1;31mKeyError\u001b[0m                                  Traceback (most recent call last)",
      "\u001b[1;32m<ipython-input-26-783ec1ff6de3>\u001b[0m in \u001b[0;36m<module>\u001b[1;34m\u001b[0m\n\u001b[0;32m     31\u001b[0m     \u001b[1;31m# Likes\u001b[0m\u001b[1;33m\u001b[0m\u001b[1;33m\u001b[0m\u001b[1;33m\u001b[0m\u001b[0m\n\u001b[0;32m     32\u001b[0m     likes += [video.find_all(class_ = 'style-scope ytd-video-primary-info-renderer')[0].\\\n\u001b[1;32m---> 33\u001b[1;33m         find_all('yt-formatted-string')[3]['aria-label'].split(\" \")[0]]\n\u001b[0m\u001b[0;32m     34\u001b[0m     \u001b[1;31m# Dislikes\u001b[0m\u001b[1;33m\u001b[0m\u001b[1;33m\u001b[0m\u001b[1;33m\u001b[0m\u001b[0m\n\u001b[0;32m     35\u001b[0m     dislikes += [video.find_all(class_ = 'style-scope ytd-video-primary-info-renderer')[0].\\\n",
      "\u001b[1;32mC:\\ProgramData\\Anaconda3\\lib\\site-packages\\bs4\\element.py\u001b[0m in \u001b[0;36m__getitem__\u001b[1;34m(self, key)\u001b[0m\n\u001b[0;32m    969\u001b[0m         \"\"\"tag[key] returns the value of the 'key' attribute for the tag,\n\u001b[0;32m    970\u001b[0m         and throws an exception if it's not there.\"\"\"\n\u001b[1;32m--> 971\u001b[1;33m         \u001b[1;32mreturn\u001b[0m \u001b[0mself\u001b[0m\u001b[1;33m.\u001b[0m\u001b[0mattrs\u001b[0m\u001b[1;33m[\u001b[0m\u001b[0mkey\u001b[0m\u001b[1;33m]\u001b[0m\u001b[1;33m\u001b[0m\u001b[1;33m\u001b[0m\u001b[0m\n\u001b[0m\u001b[0;32m    972\u001b[0m \u001b[1;33m\u001b[0m\u001b[0m\n\u001b[0;32m    973\u001b[0m     \u001b[1;32mdef\u001b[0m \u001b[0m__iter__\u001b[0m\u001b[1;33m(\u001b[0m\u001b[0mself\u001b[0m\u001b[1;33m)\u001b[0m\u001b[1;33m:\u001b[0m\u001b[1;33m\u001b[0m\u001b[1;33m\u001b[0m\u001b[0m\n",
      "\u001b[1;31mKeyError\u001b[0m: 'aria-label'"
     ]
    }
   ],
   "source": [
    "title = list()\n",
    "speaker = list()\n",
    "release_date = list()\n",
    "likes = list()\n",
    "dislikes = list()\n",
    "views = list()\n",
    "\n",
    "for link in vid_urls:\n",
    "    # Create driver\n",
    "    driver.get(link)\n",
    "    sleep(2)\n",
    "    \n",
    "    # Get page_source\n",
    "    video = BeautifulSoup(driver.page_source, 'html.parser')\n",
    "    \n",
    "    # Title\n",
    "    title += [video.find_all(class_ = 'style-scope ytd-video-primary-info-renderer')[0].\\\n",
    "        find_all('yt-formatted-string')[1].get_text().split(\"|\")[0].strip()]\n",
    "    \n",
    "    # Speaker\n",
    "    try:\n",
    "        video.find_all(class_ = 'style-scope ytd-video-primary-info-renderer')[0].\\\n",
    "            find_all('yt-formatted-string')[1].get_text().split(\"|\")[1].strip()\n",
    "    except:\n",
    "        speaker += ['NA']\n",
    "    else: \n",
    "        speaker += [video.find_all(class_ = 'style-scope ytd-video-primary-info-renderer')[0].\\\n",
    "            find_all('yt-formatted-string')[1].get_text().split(\"|\")[1].strip()]\n",
    "    \n",
    "    # Release Date\n",
    "    release_date += [video.find_all(class_ = 'style-scope ytd-video-primary-info-renderer')[0].\\\n",
    "        find_all('yt-formatted-string')[2].get_text()]\n",
    "    \n",
    "    # Likes\n",
    "    try:\n",
    "        video.find_all(class_ = 'style-scope ytd-video-primary-info-renderer')[0].\\\n",
    "            find_all('yt-formatted-string')[3]['aria-label']\n",
    "    except:\n",
    "        likes += ['NA']\n",
    "    else: \n",
    "        likes += [video.find_all(class_ = 'style-scope ytd-video-primary-info-renderer')[0].\\\n",
    "            find_all('yt-formatted-string')[3]['aria-label'].split(\" \")[0]]\n",
    "    # Dislikes\n",
    "    try:\n",
    "        video.find_all(class_ = 'style-scope ytd-video-primary-info-renderer')[0].\\\n",
    "            find_all('yt-formatted-string')[4]['aria-label']\n",
    "    except:\n",
    "        dislikes += ['NA']\n",
    "    else: \n",
    "        dislikes += [video.find_all(class_ = 'style-scope ytd-video-primary-info-renderer')[0].\\\n",
    "            find_all('yt-formatted-string')[4]['aria-label'].split(\" \")[0]]\n",
    "    # Views\n",
    "    views += [video.find_all(class_ = 'style-scope ytd-video-primary-info-renderer')[0].\\\n",
    "        find_all('span')[0].get_text().split(\" \")[0]]"
   ]
  },
  {
   "cell_type": "code",
   "execution_count": 39,
   "metadata": {},
   "outputs": [
    {
     "data": {
      "text/html": [
       "<div>\n",
       "<style scoped>\n",
       "    .dataframe tbody tr th:only-of-type {\n",
       "        vertical-align: middle;\n",
       "    }\n",
       "\n",
       "    .dataframe tbody tr th {\n",
       "        vertical-align: top;\n",
       "    }\n",
       "\n",
       "    .dataframe thead th {\n",
       "        text-align: right;\n",
       "    }\n",
       "</style>\n",
       "<table border=\"1\" class=\"dataframe\">\n",
       "  <thead>\n",
       "    <tr style=\"text-align: right;\">\n",
       "      <th></th>\n",
       "      <th>Title</th>\n",
       "      <th>Speaker</th>\n",
       "      <th>Release Date</th>\n",
       "      <th>Likes</th>\n",
       "      <th>Dislikes</th>\n",
       "      <th>Views</th>\n",
       "    </tr>\n",
       "  </thead>\n",
       "  <tbody>\n",
       "    <tr>\n",
       "      <th>0</th>\n",
       "      <td>How to foster true diversity and inclusion at ...</td>\n",
       "      <td>Rosalind G. Brewer</td>\n",
       "      <td>Dec 22, 2020</td>\n",
       "      <td>646</td>\n",
       "      <td>943</td>\n",
       "      <td>34,894</td>\n",
       "    </tr>\n",
       "    <tr>\n",
       "      <th>1</th>\n",
       "      <td>Why monkeys (and humans) are wired for fairness</td>\n",
       "      <td>Sarah Brosnan</td>\n",
       "      <td>Dec 21, 2020</td>\n",
       "      <td>1,840</td>\n",
       "      <td>88</td>\n",
       "      <td>44,702</td>\n",
       "    </tr>\n",
       "    <tr>\n",
       "      <th>2</th>\n",
       "      <td>A stellar history of modern astronomy</td>\n",
       "      <td>Emily Levesque</td>\n",
       "      <td>Dec 18, 2020</td>\n",
       "      <td>1,669</td>\n",
       "      <td>46</td>\n",
       "      <td>58,948</td>\n",
       "    </tr>\n",
       "    <tr>\n",
       "      <th>3</th>\n",
       "      <td>An aerialist on listening to your body's signals</td>\n",
       "      <td>Adie Delaney</td>\n",
       "      <td>Dec 17, 2020</td>\n",
       "      <td>1,601</td>\n",
       "      <td>40</td>\n",
       "      <td>40,475</td>\n",
       "    </tr>\n",
       "    <tr>\n",
       "      <th>4</th>\n",
       "      <td>A playful exploration of gender performance</td>\n",
       "      <td>Jo Michael Rezes</td>\n",
       "      <td>Dec 15, 2020</td>\n",
       "      <td>380</td>\n",
       "      <td>112</td>\n",
       "      <td>21,306</td>\n",
       "    </tr>\n",
       "    <tr>\n",
       "      <th>...</th>\n",
       "      <td>...</td>\n",
       "      <td>...</td>\n",
       "      <td>...</td>\n",
       "      <td>...</td>\n",
       "      <td>...</td>\n",
       "      <td>...</td>\n",
       "    </tr>\n",
       "    <tr>\n",
       "      <th>1165</th>\n",
       "      <td>A summer school kids actually want to attend</td>\n",
       "      <td>Karim Abouelnaga</td>\n",
       "      <td>May 29, 2017</td>\n",
       "      <td>2,021</td>\n",
       "      <td>86</td>\n",
       "      <td>81,684</td>\n",
       "    </tr>\n",
       "    <tr>\n",
       "      <th>1166</th>\n",
       "      <td>There's no shame in taking care of your mental...</td>\n",
       "      <td>Sangu Delle</td>\n",
       "      <td>May 26, 2017</td>\n",
       "      <td>5,689</td>\n",
       "      <td>81</td>\n",
       "      <td>234,793</td>\n",
       "    </tr>\n",
       "    <tr>\n",
       "      <th>1167</th>\n",
       "      <td>How (and why) Russia hacked the US election</td>\n",
       "      <td>Laura Galante</td>\n",
       "      <td>May 25, 2017</td>\n",
       "      <td>1,637</td>\n",
       "      <td>1,913</td>\n",
       "      <td>123,174</td>\n",
       "    </tr>\n",
       "    <tr>\n",
       "      <th>1168</th>\n",
       "      <td>This is what democracy looks like</td>\n",
       "      <td>Anthony D. Romero</td>\n",
       "      <td>May 24, 2017</td>\n",
       "      <td>1,975</td>\n",
       "      <td>565</td>\n",
       "      <td>90,070</td>\n",
       "    </tr>\n",
       "    <tr>\n",
       "      <th>1169</th>\n",
       "      <td>Behind the lies of Holocaust denial</td>\n",
       "      <td>Deborah Lipstadt</td>\n",
       "      <td>May 23, 2017</td>\n",
       "      <td>NA</td>\n",
       "      <td>NA</td>\n",
       "      <td>NA</td>\n",
       "    </tr>\n",
       "  </tbody>\n",
       "</table>\n",
       "<p>1170 rows × 6 columns</p>\n",
       "</div>"
      ],
      "text/plain": [
       "                                                  Title             Speaker  \\\n",
       "0     How to foster true diversity and inclusion at ...  Rosalind G. Brewer   \n",
       "1       Why monkeys (and humans) are wired for fairness       Sarah Brosnan   \n",
       "2                 A stellar history of modern astronomy      Emily Levesque   \n",
       "3      An aerialist on listening to your body's signals        Adie Delaney   \n",
       "4           A playful exploration of gender performance    Jo Michael Rezes   \n",
       "...                                                 ...                 ...   \n",
       "1165       A summer school kids actually want to attend    Karim Abouelnaga   \n",
       "1166  There's no shame in taking care of your mental...         Sangu Delle   \n",
       "1167        How (and why) Russia hacked the US election       Laura Galante   \n",
       "1168                  This is what democracy looks like   Anthony D. Romero   \n",
       "1169                Behind the lies of Holocaust denial    Deborah Lipstadt   \n",
       "\n",
       "      Release Date  Likes Dislikes    Views  \n",
       "0     Dec 22, 2020    646      943   34,894  \n",
       "1     Dec 21, 2020  1,840       88   44,702  \n",
       "2     Dec 18, 2020  1,669       46   58,948  \n",
       "3     Dec 17, 2020  1,601       40   40,475  \n",
       "4     Dec 15, 2020    380      112   21,306  \n",
       "...            ...    ...      ...      ...  \n",
       "1165  May 29, 2017  2,021       86   81,684  \n",
       "1166  May 26, 2017  5,689       81  234,793  \n",
       "1167  May 25, 2017  1,637    1,913  123,174  \n",
       "1168  May 24, 2017  1,975      565   90,070  \n",
       "1169  May 23, 2017     NA       NA       NA  \n",
       "\n",
       "[1170 rows x 6 columns]"
      ]
     },
     "execution_count": 39,
     "metadata": {},
     "output_type": "execute_result"
    }
   ],
   "source": [
    "# Create a data frame for return\n",
    "d = {'Title': title, 'Speaker': speaker, 'Release Date': release_date, 'Likes': likes, \n",
    "     'Dislikes': dislikes, 'Views': views}\n",
    "df = pandas.DataFrame(data=d)\n",
    "df"
   ]
  },
  {
   "cell_type": "code",
   "execution_count": 40,
   "metadata": {},
   "outputs": [],
   "source": [
    "driver.quit()\n",
    "df.to_csv('TED_Talk_Data_From_Youtube.csv')"
   ]
  }
 ],
 "metadata": {
  "kernelspec": {
   "display_name": "Python 3",
   "language": "python",
   "name": "python3"
  },
  "language_info": {
   "codemirror_mode": {
    "name": "ipython",
    "version": 3
   },
   "file_extension": ".py",
   "mimetype": "text/x-python",
   "name": "python",
   "nbconvert_exporter": "python",
   "pygments_lexer": "ipython3",
   "version": "3.7.6"
  }
 },
 "nbformat": 4,
 "nbformat_minor": 4
}
